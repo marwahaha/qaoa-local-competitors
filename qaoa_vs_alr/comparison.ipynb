{
 "cells": [
  {
   "cell_type": "markdown",
   "id": "super-contest",
   "metadata": {},
   "source": [
    "This notebook compares the performance of QAOA with the ALR algorithm for maximum cut on a few types of graphs."
   ]
  },
  {
   "cell_type": "markdown",
   "id": "collect-round",
   "metadata": {},
   "source": [
    "This belongs with the paper:\n",
    "\"Classical algorithms and quantum limitations for maximum cut on high-girth graphs\" by Boaz Barak and Kunal Marwaha\n",
    "\n",
    "(on arXiv at https://arxiv.org/abs/2106.05900 )\n",
    "\n",
    "All data is available at https://github.com/marwahaha/qaoa-local-competitors/tree/master/qaoa_vs_alr"
   ]
  },
  {
   "cell_type": "markdown",
   "id": "advised-african",
   "metadata": {},
   "source": [
    "# Imports"
   ]
  },
  {
   "cell_type": "code",
   "execution_count": 1,
   "id": "disciplinary-namibia",
   "metadata": {},
   "outputs": [],
   "source": [
    "import numpy as np\n",
    "from scipy.io import loadmat\n",
    "import scipy\n",
    "import networkx as nx\n",
    "import matplotlib.pyplot as plt\n",
    "from functools import lru_cache\n",
    "import pandas as pd\n",
    "from itertools import chain, combinations\n",
    "import seaborn as sns\n",
    "sns.set()"
   ]
  },
  {
   "cell_type": "markdown",
   "id": "choice-carnival",
   "metadata": {},
   "source": [
    "# Random graphs"
   ]
  },
  {
   "cell_type": "markdown",
   "id": "promising-archive",
   "metadata": {},
   "source": [
    "## Loading data from Zhou et al\n",
    "\n",
    "The data file `MaxCut_Fourier_u3R.mat` is from:\n",
    "\n",
    "\n",
    "\"Quantum Approximate Optimization Algorithm: Performance, Mechanism,and Implementation on Near-Term Devices\"\n",
    "\n",
    "by Leo Zhou, Sheng-Tao Wang, Soonwon Choi, Hannes Pichler, and Mikhail D. Lukin\n",
    "\n",
    "https://journals.aps.org/prx/pdf/10.1103/PhysRevX.10.021067\n",
    "\n"
   ]
  },
  {
   "cell_type": "code",
   "execution_count": 2,
   "id": "ordinary-supply",
   "metadata": {},
   "outputs": [
    {
     "name": "stdout",
     "output_type": "stream",
     "text": [
      "dict_keys(['__header__', '__version__', '__globals__', 'DataFourier', 'DataFourierRP', 'Ns', 'maxP', 'GraphData', 'numGraphs'])\n"
     ]
    }
   ],
   "source": [
    "annots = loadmat('MaxCut_Fourier_u3R.mat')\n",
    "print(annots.keys())"
   ]
  },
  {
   "cell_type": "code",
   "execution_count": 3,
   "id": "lesser-chuck",
   "metadata": {},
   "outputs": [
    {
     "data": {
      "text/plain": [
       "[(20, 100), (20, 100), (20, 2, 100), (20, 100)]"
      ]
     },
     "execution_count": 3,
     "metadata": {},
     "output_type": "execute_result"
    }
   ],
   "source": [
    "# fields: ratio, param, overlaps, userTime\n",
    "[annots['DataFourierRP'][0][0][i].shape for i in range(len(annots['DataFourierRP'][0][0]))]"
   ]
  },
  {
   "cell_type": "code",
   "execution_count": 4,
   "id": "smaller-worry",
   "metadata": {},
   "outputs": [],
   "source": [
    "Ns = annots['Ns'][0]\n",
    "num_graphs = annots['numGraphs'][0]\n",
    "maxP = annots['maxP'][0][0]"
   ]
  },
  {
   "cell_type": "markdown",
   "id": "accredited-dividend",
   "metadata": {},
   "source": [
    "## Finding the maximum cut"
   ]
  },
  {
   "cell_type": "markdown",
   "id": "exact-biotechnology",
   "metadata": {},
   "source": [
    "Leo's method (from his code at https://github.com/leologist/GenQAOA/ )"
   ]
  },
  {
   "cell_type": "code",
   "execution_count": 5,
   "id": "specified-clearance",
   "metadata": {},
   "outputs": [],
   "source": [
    "@lru_cache(maxsize=None)\n",
    "def get_kron(N,i,j):\n",
    "    sz = [1,-1]\n",
    "    L = 2**(i-1)\n",
    "    M = 2**(j-i-1)\n",
    "    R = 2**(N-j)\n",
    "    outT1 = np.kron(np.ones(L), sz)\n",
    "    outT2 = np.kron(outT1, np.ones(M))\n",
    "    outT3 = np.kron(outT2, sz)\n",
    "    out = np.kron(outT3, np.ones(R))\n",
    "    return out"
   ]
  },
  {
   "cell_type": "code",
   "execution_count": 6,
   "id": "psychological-composite",
   "metadata": {},
   "outputs": [],
   "source": [
    "def get_H(N, edges):\n",
    "    H = np.zeros(2**N)\n",
    "    for i,j in edges:\n",
    "        H = H + (1 - get_kron(N, i, j))/2\n",
    "    return H"
   ]
  },
  {
   "cell_type": "markdown",
   "id": "ignored-trick",
   "metadata": {},
   "source": [
    "Comparing against a brute-force method:"
   ]
  },
  {
   "cell_type": "code",
   "execution_count": 7,
   "id": "opening-kitchen",
   "metadata": {},
   "outputs": [],
   "source": [
    "def powerset(iterable):\n",
    "    \"powerset([1,2,3]) --> () (1,) (2,) (3,) (1,2) (1,3) (2,3) (1,2,3)\"\n",
    "    s = list(iterable)\n",
    "    return chain.from_iterable(combinations(s, r) for r in range(len(s)+1))"
   ]
  },
  {
   "cell_type": "code",
   "execution_count": 8,
   "id": "fewer-surfing",
   "metadata": {},
   "outputs": [],
   "source": [
    "num_trials = 10"
   ]
  },
  {
   "cell_type": "code",
   "execution_count": 9,
   "id": "coral-supply",
   "metadata": {},
   "outputs": [
    {
     "name": "stdout",
     "output_type": "stream",
     "text": [
      "Success\n",
      "CPU times: user 13.6 s, sys: 38.6 ms, total: 13.6 s\n",
      "Wall time: 13.6 s\n"
     ]
    }
   ],
   "source": [
    "%%time\n",
    "for N in [8,10,12,14,16]:\n",
    "    for _ in range(num_trials):\n",
    "        G = nx.random_regular_graph(3, N)\n",
    "        G = nx.convert_node_labels_to_integers(G, first_label=1)\n",
    "        max_cut = max(get_H(N, G.edges()))\n",
    "        all_subsets = powerset(list(G.nodes()))\n",
    "        all_cut_sizes = [nx.cut_size(G, S) for S in all_subsets]\n",
    "        max_cut_brute = max(all_cut_sizes)\n",
    "#         print(\"max cut:\", max_cut, max_cut_brute)\n",
    "        assert max_cut == max_cut_brute\n",
    "print(\"Success\")"
   ]
  },
  {
   "cell_type": "markdown",
   "id": "norwegian-warehouse",
   "metadata": {},
   "source": [
    "## ALR algorithm"
   ]
  },
  {
   "cell_type": "code",
   "execution_count": 10,
   "id": "imported-cleaners",
   "metadata": {},
   "outputs": [],
   "source": [
    "def ALR(g):\n",
    "    # Get adjacency matrix and eigenvectors\n",
    "    nodes = sorted(g.nodes())\n",
    "    n = len(nodes)\n",
    "    m = nx.linalg.graphmatrix.adjacency_matrix(g, nodelist=nodes).asfptype().T.toarray()\n",
    "    w, v = scipy.linalg.eig(m)\n",
    "    \n",
    "    min_eig_idxs = np.where(w == np.min(w))[0]\n",
    "    cut = 0\n",
    "    for idx in min_eig_idxs:\n",
    "    # average over minimum eigenvectors (there are multiple when graph is disconnected, for example)\n",
    "        eigvec = v[:, idx]\n",
    "        # normalize eigenvector\n",
    "        eigvec = eigvec * n**0.5 / np.linalg.norm(eigvec)\n",
    "\n",
    "        # make cut from sign of eigenvector\n",
    "        signs = np.sign(eigvec)\n",
    "        S = [n for n, x in zip(nodes, signs) if x >= 0]\n",
    "        cut += nx.cut_size(g, S)\n",
    "    cut = cut/len(min_eig_idxs)\n",
    "    return cut"
   ]
  },
  {
   "cell_type": "markdown",
   "id": "mental-leeds",
   "metadata": {},
   "source": [
    "## Compare algorithms"
   ]
  },
  {
   "cell_type": "code",
   "execution_count": 11,
   "id": "hazardous-netscape",
   "metadata": {},
   "outputs": [],
   "source": [
    "@lru_cache(maxsize=None)\n",
    "def compare(N, p, graph_num, show_prints=True, return_graph=False):\n",
    "    pr = print if show_prints else lambda *x: x\n",
    "    \n",
    "    # get graph\n",
    "    assert N in Ns, \"choose N from 8, 10, 12, 14, 16, 18, 20, 22\"\n",
    "    idx = np.where(Ns == N)[0][0]\n",
    "    assert annots['GraphData'][0][idx][0] == N\n",
    "    assert annots['GraphData'][0][idx][2] == 'u3R'\n",
    "    assert annots['GraphData'][0][idx][1].size == num_graphs[idx]\n",
    "    pr(\"N:\", N)\n",
    "    pr(\"number of graphs:\", num_graphs[idx])\n",
    "    assert graph_num < num_graphs[idx], \"graph_num must be less than \" + str(num_graphs[idx])\n",
    "    assert 1 <= p and p <= maxP, \"must be p in 1-\" + str(maxP)\n",
    "    pr(\"p:\", p)\n",
    "    pr(\"graph num:\", graph_num)\n",
    "    ratio = annots['DataFourierRP'][0][idx][0][p-1][graph_num]\n",
    "    pr(\"approx ratio:\", ratio)\n",
    "    graph_edges = annots['GraphData'][0][idx][1][0][graph_num]\n",
    "    G = nx.parse_edgelist([str(e[0]) + \" \" + str(e[1]) for e in graph_edges], nodetype = int)\n",
    "    G = nx.convert_node_labels_to_integers(G, first_label=1)\n",
    "    \n",
    "    # get max cut\n",
    "    max_cut = max(get_H(N, G.edges()))\n",
    "    pr(\"total number of edges:\", len(graph_edges))\n",
    "    pr(\"max cut:\", max_cut)\n",
    "    qaoa_average_cut = ratio*max_cut\n",
    "    pr(\"qaoa average cut:\", qaoa_average_cut)\n",
    "    \n",
    "    # get ALR cut\n",
    "    alr_cut = ALR(G)\n",
    "    pr(\"ALR cut:\", alr_cut)\n",
    "    if return_graph:\n",
    "        return G\n",
    "    return (len(graph_edges), max_cut, qaoa_average_cut, alr_cut)"
   ]
  },
  {
   "cell_type": "markdown",
   "id": "raised-superintendent",
   "metadata": {},
   "source": [
    "## Go through data"
   ]
  },
  {
   "cell_type": "code",
   "execution_count": 12,
   "id": "revolutionary-peninsula",
   "metadata": {},
   "outputs": [
    {
     "name": "stdout",
     "output_type": "stream",
     "text": [
      "N: 16\n",
      "number of graphs: 100\n",
      "p: 3\n",
      "graph num: 20\n",
      "approx ratio: 0.898987262169082\n",
      "total number of edges: 24\n",
      "max cut: 21.0\n",
      "qaoa average cut: 18.878732505550722\n",
      "ALR cut: 20.0\n"
     ]
    },
    {
     "data": {
      "text/plain": [
       "(24, 21.0, 18.878732505550722, 20.0)"
      ]
     },
     "execution_count": 12,
     "metadata": {},
     "output_type": "execute_result"
    }
   ],
   "source": [
    "# Example\n",
    "N = 16\n",
    "p = 3\n",
    "graph_num = 20\n",
    "compare(N, p, graph_num, show_prints=True)"
   ]
  },
  {
   "cell_type": "code",
   "execution_count": 13,
   "id": "northern-yemen",
   "metadata": {},
   "outputs": [
    {
     "name": "stdout",
     "output_type": "stream",
     "text": [
      "N = 8\n",
      "N = 10\n",
      "N = 12\n",
      "N = 14\n",
      "N = 16\n",
      "CPU times: user 25.6 s, sys: 16 ms, total: 25.6 s\n",
      "Wall time: 25.6 s\n"
     ]
    }
   ],
   "source": [
    "%%time\n",
    "\n",
    "all_df = None\n",
    "for N in [8, 10, 12, 14, 16]:\n",
    "    print(\"N =\", N)\n",
    "    ps = range(1, 21)\n",
    "    for p in ps:\n",
    "        df = pd.DataFrame(([(N, p, i, *compare(N, p, i, show_prints=False)) for i in range(100)]), columns=['N', 'p', 'graph_num', 'E', 'max_cut', 'qaoa', 'alr'])\n",
    "        if all_df is None:\n",
    "            all_df = df\n",
    "        else:\n",
    "            all_df = pd.concat((all_df, df))\n",
    "            \n",
    "#all_df.to_csv('output.csv', index = False)"
   ]
  },
  {
   "cell_type": "markdown",
   "id": "governmental-bracelet",
   "metadata": {},
   "source": [
    "## Plots"
   ]
  },
  {
   "cell_type": "code",
   "execution_count": 14,
   "id": "valued-stake",
   "metadata": {},
   "outputs": [],
   "source": [
    "ds = all_df\n",
    "ds['delta'] = ds['alr'] - ds['qaoa']\n",
    "ds['normalized_delta'] = ds['delta']/ds['E']\n",
    "average_diff = ds.groupby(['N','p'])['delta'].mean().unstack()"
   ]
  },
  {
   "cell_type": "code",
   "execution_count": 15,
   "id": "obvious-research",
   "metadata": {},
   "outputs": [],
   "source": [
    "def plot_mean_diff(average_diff, ax, f1=20, f2=16):\n",
    "    cmap = sns.color_palette(\"vlag\", as_cmap=True)\n",
    "    sns.heatmap(average_diff, center = 0, cmap=cmap, ax=ax)\n",
    "    ax.set_title(\"Mean difference in cut value ($ALR-QAOA$)\", fontsize = f1)\n",
    "    ax.invert_yaxis()\n",
    "    ax.set_ylabel('$n$', fontsize=f2)\n",
    "    ax.set_xlabel('$p$', fontsize=f2)"
   ]
  },
  {
   "cell_type": "code",
   "execution_count": 16,
   "id": "outside-basics",
   "metadata": {},
   "outputs": [
    {
     "data": {
      "image/png": "[encoded data removed]",
      "text/plain": [
       "<Figure size 864x432 with 2 Axes>"
      ]
     },
     "metadata": {},
     "output_type": "display_data"
    }
   ],
   "source": [
    "plt.figure(figsize=(12, 6))\n",
    "ax = plt.axes()\n",
    "\n",
    "plot_mean_diff(average_diff, ax)\n",
    "plt.show()"
   ]
  },
  {
   "cell_type": "code",
   "execution_count": 17,
   "id": "challenging-style",
   "metadata": {},
   "outputs": [],
   "source": [
    "ds['ALR wins'] = ds['delta']>=0\n",
    "frac_alr_win = ds.groupby(['N','p'])['ALR wins'].mean().unstack()*100"
   ]
  },
  {
   "cell_type": "code",
   "execution_count": 18,
   "id": "sensitive-quality",
   "metadata": {},
   "outputs": [],
   "source": [
    "def plot_qaoa_wins(frac_alr_win, ax, f1=20, f2=16):\n",
    "    cmap = sns.color_palette(\"rocket_r\", as_cmap=True)\n",
    "    labels = frac_alr_win.applymap(lambda v: \"0\"  if v == 100 else '')\n",
    "    sns.heatmap(100-frac_alr_win, vmin = 0, vmax=100, cmap=cmap, ax=ax, annot=labels, fmt=\"\")\n",
    "    ax.set_title(\"Percent on which QAOA beats ALR\", fontsize=f1)\n",
    "    ax.invert_yaxis()\n",
    "    ax.set_ylabel('$n$', fontsize=f2)\n",
    "    ax.set_xlabel('$p$', fontsize=f2)"
   ]
  },
  {
   "cell_type": "code",
   "execution_count": 19,
   "id": "attractive-walker",
   "metadata": {},
   "outputs": [
    {
     "data": {
      "image/png": "[encoded data removed]",
      "text/plain": [
       "<Figure size 864x432 with 2 Axes>"
      ]
     },
     "metadata": {},
     "output_type": "display_data"
    }
   ],
   "source": [
    "plt.figure(figsize=(12, 6))\n",
    "ax = plt.axes()\n",
    "\n",
    "plot_qaoa_wins(frac_alr_win, ax)\n",
    "plt.show()"
   ]
  },
  {
   "cell_type": "code",
   "execution_count": 20,
   "id": "collaborative-pregnancy",
   "metadata": {},
   "outputs": [],
   "source": [
    "THRESHOLD = 0.05\n",
    "ds['ALR almost wins'] = ds['normalized_delta']>= -THRESHOLD\n",
    "\n",
    "frac_alr_almost_win = ds.groupby(['N','p'])['ALR almost wins'].mean().unstack()*100"
   ]
  },
  {
   "cell_type": "code",
   "execution_count": 21,
   "id": "significant-parameter",
   "metadata": {},
   "outputs": [],
   "source": [
    "def plot_qaoa_wins_by_margin(frac_alr_almost_win, ax, THRESHOLD, f1=20, f2=16):\n",
    "    cmap = sns.color_palette(\"rocket_r\", as_cmap=True)\n",
    "    labels = frac_alr_almost_win.applymap(lambda v: \"0\"  if v == 100 else '')\n",
    "    sns.heatmap(100-frac_alr_almost_win, vmin = 0, vmax=100, cmap=cmap, ax=ax, annot=labels, fmt=\"\")\n",
    "\n",
    "    ax.set_title(f\"Percent on which QAOA beats ALR by > {THRESHOLD*100:.0f}%\",fontsize =f1)\n",
    "    ax.invert_yaxis()\n",
    "    ax.set_ylabel('$n$', fontsize=f2)\n",
    "    ax.set_xlabel('$p$', fontsize=f2)"
   ]
  },
  {
   "cell_type": "code",
   "execution_count": 22,
   "id": "eligible-inside",
   "metadata": {},
   "outputs": [
    {
     "data": {
      "image/png": "[encoded data removed]",
      "text/plain": [
       "<Figure size 864x432 with 2 Axes>"
      ]
     },
     "metadata": {},
     "output_type": "display_data"
    }
   ],
   "source": [
    "plt.figure(figsize=(12, 6))\n",
    "ax = plt.axes()\n",
    "\n",
    "plot_qaoa_wins_by_margin(frac_alr_almost_win, ax, THRESHOLD)\n",
    "plt.show()"
   ]
  },
  {
   "cell_type": "code",
   "execution_count": 23,
   "id": "conscious-loading",
   "metadata": {},
   "outputs": [
    {
     "data": {
      "image/png": "[encoded data removed]",
      "text/plain": [
       "<Figure size 1080x216 with 6 Axes>"
      ]
     },
     "metadata": {},
     "output_type": "display_data"
    }
   ],
   "source": [
    "fig, axs = plt.subplots(1, 3, figsize=((15, 3)))\n",
    "plot_mean_diff(average_diff, axs[0], f1=13, f2=12)\n",
    "plot_qaoa_wins(frac_alr_win, axs[1], f1=13, f2=12)\n",
    "plot_qaoa_wins_by_margin(frac_alr_almost_win, axs[2], THRESHOLD, f1=13, f2=12)\n",
    "fig.tight_layout()\n",
    "plt.savefig(\"random.png\", dpi=300)"
   ]
  },
  {
   "cell_type": "markdown",
   "id": "governing-index",
   "metadata": {},
   "source": [
    "# Torus and grid"
   ]
  },
  {
   "cell_type": "code",
   "execution_count": 24,
   "id": "engaged-montana",
   "metadata": {},
   "outputs": [
    {
     "name": "stdout",
     "output_type": "stream",
     "text": [
      "4x4 torus 32 32.0 32.0\n"
     ]
    }
   ],
   "source": [
    "G=nx.grid_2d_graph(4,4, periodic=True)\n",
    "G=nx.convert_node_labels_to_integers(G, first_label=1)\n",
    "print(\"4x4 torus\", len(G.edges()), max(get_H(len(list(G)), G.edges())), ALR(G))"
   ]
  },
  {
   "cell_type": "code",
   "execution_count": 25,
   "id": "accredited-upper",
   "metadata": {},
   "outputs": [],
   "source": [
    "edges = list(G.edges())\n",
    "with open('torus.txt', 'w') as f:\n",
    "    for i,j in edges:\n",
    "        f.write(str(i) + \" \" + str(j) +  \" \" + \"1\\n\")\n",
    "f.close()"
   ]
  },
  {
   "cell_type": "code",
   "execution_count": 26,
   "id": "global-draft",
   "metadata": {},
   "outputs": [
    {
     "name": "stdout",
     "output_type": "stream",
     "text": [
      "4x4 grid 24 24.0 24.0\n"
     ]
    }
   ],
   "source": [
    "G=nx.grid_2d_graph(4,4, periodic=False)\n",
    "G=nx.convert_node_labels_to_integers(G, first_label=1)\n",
    "print(\"4x4 grid\", len(G.edges()), max(get_H(len(list(G)), G.edges())), ALR(G))"
   ]
  },
  {
   "cell_type": "code",
   "execution_count": 27,
   "id": "streaming-chosen",
   "metadata": {},
   "outputs": [],
   "source": [
    "edges = list(G.edges())\n",
    "with open('grid.txt', 'w') as f:\n",
    "    for i,j in edges:\n",
    "        f.write(str(i) + \" \" + str(j) +  \" \" + \"1\\n\")\n",
    "f.close()"
   ]
  },
  {
   "cell_type": "markdown",
   "id": "perceived-architect",
   "metadata": {},
   "source": [
    "The QAOA approximation ratio was found using Leo's code. https://github.com/leologist/GenQAOA/blob/master/MATLAB/demo/demo_QAOAMaxCut_FourierStrategy.m"
   ]
  },
  {
   "cell_type": "markdown",
   "id": "severe-wedding",
   "metadata": {},
   "source": [
    "The data was collected and stored in `grid.csv`."
   ]
  },
  {
   "cell_type": "code",
   "execution_count": 28,
   "id": "homeless-conversion",
   "metadata": {},
   "outputs": [
    {
     "data": {
      "text/html": [
       "<div>\n",
       "<style scoped>\n",
       "    .dataframe tbody tr th:only-of-type {\n",
       "        vertical-align: middle;\n",
       "    }\n",
       "\n",
       "    .dataframe tbody tr th {\n",
       "        vertical-align: top;\n",
       "    }\n",
       "\n",
       "    .dataframe thead th {\n",
       "        text-align: right;\n",
       "    }\n",
       "</style>\n",
       "<table border=\"1\" class=\"dataframe\">\n",
       "  <thead>\n",
       "    <tr style=\"text-align: right;\">\n",
       "      <th></th>\n",
       "      <th>m</th>\n",
       "      <th>n</th>\n",
       "      <th>periodic</th>\n",
       "      <th>E</th>\n",
       "      <th>max_cut</th>\n",
       "      <th>p</th>\n",
       "      <th>qaoa_ratio_of_max_cut</th>\n",
       "    </tr>\n",
       "  </thead>\n",
       "  <tbody>\n",
       "    <tr>\n",
       "      <th>0</th>\n",
       "      <td>4</td>\n",
       "      <td>4</td>\n",
       "      <td>True</td>\n",
       "      <td>32</td>\n",
       "      <td>32</td>\n",
       "      <td>1</td>\n",
       "      <td>0.6624</td>\n",
       "    </tr>\n",
       "    <tr>\n",
       "      <th>1</th>\n",
       "      <td>4</td>\n",
       "      <td>4</td>\n",
       "      <td>True</td>\n",
       "      <td>32</td>\n",
       "      <td>32</td>\n",
       "      <td>2</td>\n",
       "      <td>0.7541</td>\n",
       "    </tr>\n",
       "    <tr>\n",
       "      <th>2</th>\n",
       "      <td>4</td>\n",
       "      <td>4</td>\n",
       "      <td>True</td>\n",
       "      <td>32</td>\n",
       "      <td>32</td>\n",
       "      <td>3</td>\n",
       "      <td>0.8289</td>\n",
       "    </tr>\n",
       "    <tr>\n",
       "      <th>3</th>\n",
       "      <td>4</td>\n",
       "      <td>4</td>\n",
       "      <td>True</td>\n",
       "      <td>32</td>\n",
       "      <td>32</td>\n",
       "      <td>4</td>\n",
       "      <td>0.9068</td>\n",
       "    </tr>\n",
       "    <tr>\n",
       "      <th>4</th>\n",
       "      <td>4</td>\n",
       "      <td>4</td>\n",
       "      <td>True</td>\n",
       "      <td>32</td>\n",
       "      <td>32</td>\n",
       "      <td>5</td>\n",
       "      <td>0.9562</td>\n",
       "    </tr>\n",
       "    <tr>\n",
       "      <th>5</th>\n",
       "      <td>4</td>\n",
       "      <td>4</td>\n",
       "      <td>True</td>\n",
       "      <td>32</td>\n",
       "      <td>32</td>\n",
       "      <td>6</td>\n",
       "      <td>0.9826</td>\n",
       "    </tr>\n",
       "    <tr>\n",
       "      <th>6</th>\n",
       "      <td>4</td>\n",
       "      <td>4</td>\n",
       "      <td>True</td>\n",
       "      <td>32</td>\n",
       "      <td>32</td>\n",
       "      <td>7</td>\n",
       "      <td>0.9947</td>\n",
       "    </tr>\n",
       "    <tr>\n",
       "      <th>7</th>\n",
       "      <td>4</td>\n",
       "      <td>4</td>\n",
       "      <td>True</td>\n",
       "      <td>32</td>\n",
       "      <td>32</td>\n",
       "      <td>8</td>\n",
       "      <td>0.9985</td>\n",
       "    </tr>\n",
       "    <tr>\n",
       "      <th>8</th>\n",
       "      <td>4</td>\n",
       "      <td>4</td>\n",
       "      <td>True</td>\n",
       "      <td>32</td>\n",
       "      <td>32</td>\n",
       "      <td>9</td>\n",
       "      <td>0.9996</td>\n",
       "    </tr>\n",
       "    <tr>\n",
       "      <th>9</th>\n",
       "      <td>4</td>\n",
       "      <td>4</td>\n",
       "      <td>True</td>\n",
       "      <td>32</td>\n",
       "      <td>32</td>\n",
       "      <td>10</td>\n",
       "      <td>0.9999</td>\n",
       "    </tr>\n",
       "    <tr>\n",
       "      <th>10</th>\n",
       "      <td>4</td>\n",
       "      <td>4</td>\n",
       "      <td>False</td>\n",
       "      <td>24</td>\n",
       "      <td>24</td>\n",
       "      <td>1</td>\n",
       "      <td>0.6879</td>\n",
       "    </tr>\n",
       "    <tr>\n",
       "      <th>11</th>\n",
       "      <td>4</td>\n",
       "      <td>4</td>\n",
       "      <td>False</td>\n",
       "      <td>24</td>\n",
       "      <td>24</td>\n",
       "      <td>2</td>\n",
       "      <td>0.7787</td>\n",
       "    </tr>\n",
       "    <tr>\n",
       "      <th>12</th>\n",
       "      <td>4</td>\n",
       "      <td>4</td>\n",
       "      <td>False</td>\n",
       "      <td>24</td>\n",
       "      <td>24</td>\n",
       "      <td>3</td>\n",
       "      <td>0.8406</td>\n",
       "    </tr>\n",
       "    <tr>\n",
       "      <th>13</th>\n",
       "      <td>4</td>\n",
       "      <td>4</td>\n",
       "      <td>False</td>\n",
       "      <td>24</td>\n",
       "      <td>24</td>\n",
       "      <td>4</td>\n",
       "      <td>0.8849</td>\n",
       "    </tr>\n",
       "    <tr>\n",
       "      <th>14</th>\n",
       "      <td>4</td>\n",
       "      <td>4</td>\n",
       "      <td>False</td>\n",
       "      <td>24</td>\n",
       "      <td>24</td>\n",
       "      <td>5</td>\n",
       "      <td>0.9202</td>\n",
       "    </tr>\n",
       "    <tr>\n",
       "      <th>15</th>\n",
       "      <td>4</td>\n",
       "      <td>4</td>\n",
       "      <td>False</td>\n",
       "      <td>24</td>\n",
       "      <td>24</td>\n",
       "      <td>6</td>\n",
       "      <td>0.9506</td>\n",
       "    </tr>\n",
       "    <tr>\n",
       "      <th>16</th>\n",
       "      <td>4</td>\n",
       "      <td>4</td>\n",
       "      <td>False</td>\n",
       "      <td>24</td>\n",
       "      <td>24</td>\n",
       "      <td>7</td>\n",
       "      <td>0.9720</td>\n",
       "    </tr>\n",
       "    <tr>\n",
       "      <th>17</th>\n",
       "      <td>4</td>\n",
       "      <td>4</td>\n",
       "      <td>False</td>\n",
       "      <td>24</td>\n",
       "      <td>24</td>\n",
       "      <td>8</td>\n",
       "      <td>0.9849</td>\n",
       "    </tr>\n",
       "    <tr>\n",
       "      <th>18</th>\n",
       "      <td>4</td>\n",
       "      <td>4</td>\n",
       "      <td>False</td>\n",
       "      <td>24</td>\n",
       "      <td>24</td>\n",
       "      <td>9</td>\n",
       "      <td>0.9920</td>\n",
       "    </tr>\n",
       "    <tr>\n",
       "      <th>19</th>\n",
       "      <td>4</td>\n",
       "      <td>4</td>\n",
       "      <td>False</td>\n",
       "      <td>24</td>\n",
       "      <td>24</td>\n",
       "      <td>10</td>\n",
       "      <td>0.9956</td>\n",
       "    </tr>\n",
       "  </tbody>\n",
       "</table>\n",
       "</div>"
      ],
      "text/plain": [
       "    m  n  periodic   E  max_cut   p  qaoa_ratio_of_max_cut\n",
       "0   4  4      True  32       32   1                 0.6624\n",
       "1   4  4      True  32       32   2                 0.7541\n",
       "2   4  4      True  32       32   3                 0.8289\n",
       "3   4  4      True  32       32   4                 0.9068\n",
       "4   4  4      True  32       32   5                 0.9562\n",
       "5   4  4      True  32       32   6                 0.9826\n",
       "6   4  4      True  32       32   7                 0.9947\n",
       "7   4  4      True  32       32   8                 0.9985\n",
       "8   4  4      True  32       32   9                 0.9996\n",
       "9   4  4      True  32       32  10                 0.9999\n",
       "10  4  4     False  24       24   1                 0.6879\n",
       "11  4  4     False  24       24   2                 0.7787\n",
       "12  4  4     False  24       24   3                 0.8406\n",
       "13  4  4     False  24       24   4                 0.8849\n",
       "14  4  4     False  24       24   5                 0.9202\n",
       "15  4  4     False  24       24   6                 0.9506\n",
       "16  4  4     False  24       24   7                 0.9720\n",
       "17  4  4     False  24       24   8                 0.9849\n",
       "18  4  4     False  24       24   9                 0.9920\n",
       "19  4  4     False  24       24  10                 0.9956"
      ]
     },
     "execution_count": 28,
     "metadata": {},
     "output_type": "execute_result"
    }
   ],
   "source": [
    "grid = pd.read_csv('grid.csv')\n",
    "grid"
   ]
  },
  {
   "cell_type": "markdown",
   "id": "built-particular",
   "metadata": {},
   "source": [
    "## Plots"
   ]
  },
  {
   "cell_type": "code",
   "execution_count": 29,
   "id": "standing-husband",
   "metadata": {},
   "outputs": [
    {
     "data": {
      "text/html": [
       "<div>\n",
       "<style scoped>\n",
       "    .dataframe tbody tr th:only-of-type {\n",
       "        vertical-align: middle;\n",
       "    }\n",
       "\n",
       "    .dataframe tbody tr th {\n",
       "        vertical-align: top;\n",
       "    }\n",
       "\n",
       "    .dataframe thead th {\n",
       "        text-align: right;\n",
       "    }\n",
       "</style>\n",
       "<table border=\"1\" class=\"dataframe\">\n",
       "  <thead>\n",
       "    <tr style=\"text-align: right;\">\n",
       "      <th></th>\n",
       "      <th>m</th>\n",
       "      <th>n</th>\n",
       "      <th>periodic</th>\n",
       "      <th>E</th>\n",
       "      <th>max_cut</th>\n",
       "      <th>p</th>\n",
       "      <th>qaoa_ratio_of_max_cut</th>\n",
       "    </tr>\n",
       "  </thead>\n",
       "  <tbody>\n",
       "    <tr>\n",
       "      <th>0</th>\n",
       "      <td>4</td>\n",
       "      <td>4</td>\n",
       "      <td>True</td>\n",
       "      <td>32</td>\n",
       "      <td>32</td>\n",
       "      <td>1</td>\n",
       "      <td>0.6624</td>\n",
       "    </tr>\n",
       "    <tr>\n",
       "      <th>1</th>\n",
       "      <td>4</td>\n",
       "      <td>4</td>\n",
       "      <td>True</td>\n",
       "      <td>32</td>\n",
       "      <td>32</td>\n",
       "      <td>2</td>\n",
       "      <td>0.7541</td>\n",
       "    </tr>\n",
       "    <tr>\n",
       "      <th>2</th>\n",
       "      <td>4</td>\n",
       "      <td>4</td>\n",
       "      <td>True</td>\n",
       "      <td>32</td>\n",
       "      <td>32</td>\n",
       "      <td>3</td>\n",
       "      <td>0.8289</td>\n",
       "    </tr>\n",
       "    <tr>\n",
       "      <th>3</th>\n",
       "      <td>4</td>\n",
       "      <td>4</td>\n",
       "      <td>True</td>\n",
       "      <td>32</td>\n",
       "      <td>32</td>\n",
       "      <td>4</td>\n",
       "      <td>0.9068</td>\n",
       "    </tr>\n",
       "    <tr>\n",
       "      <th>4</th>\n",
       "      <td>4</td>\n",
       "      <td>4</td>\n",
       "      <td>True</td>\n",
       "      <td>32</td>\n",
       "      <td>32</td>\n",
       "      <td>5</td>\n",
       "      <td>0.9562</td>\n",
       "    </tr>\n",
       "    <tr>\n",
       "      <th>5</th>\n",
       "      <td>4</td>\n",
       "      <td>4</td>\n",
       "      <td>True</td>\n",
       "      <td>32</td>\n",
       "      <td>32</td>\n",
       "      <td>6</td>\n",
       "      <td>0.9826</td>\n",
       "    </tr>\n",
       "    <tr>\n",
       "      <th>6</th>\n",
       "      <td>4</td>\n",
       "      <td>4</td>\n",
       "      <td>True</td>\n",
       "      <td>32</td>\n",
       "      <td>32</td>\n",
       "      <td>7</td>\n",
       "      <td>0.9947</td>\n",
       "    </tr>\n",
       "    <tr>\n",
       "      <th>7</th>\n",
       "      <td>4</td>\n",
       "      <td>4</td>\n",
       "      <td>True</td>\n",
       "      <td>32</td>\n",
       "      <td>32</td>\n",
       "      <td>8</td>\n",
       "      <td>0.9985</td>\n",
       "    </tr>\n",
       "    <tr>\n",
       "      <th>8</th>\n",
       "      <td>4</td>\n",
       "      <td>4</td>\n",
       "      <td>True</td>\n",
       "      <td>32</td>\n",
       "      <td>32</td>\n",
       "      <td>9</td>\n",
       "      <td>0.9996</td>\n",
       "    </tr>\n",
       "    <tr>\n",
       "      <th>9</th>\n",
       "      <td>4</td>\n",
       "      <td>4</td>\n",
       "      <td>True</td>\n",
       "      <td>32</td>\n",
       "      <td>32</td>\n",
       "      <td>10</td>\n",
       "      <td>0.9999</td>\n",
       "    </tr>\n",
       "  </tbody>\n",
       "</table>\n",
       "</div>"
      ],
      "text/plain": [
       "   m  n  periodic   E  max_cut   p  qaoa_ratio_of_max_cut\n",
       "0  4  4      True  32       32   1                 0.6624\n",
       "1  4  4      True  32       32   2                 0.7541\n",
       "2  4  4      True  32       32   3                 0.8289\n",
       "3  4  4      True  32       32   4                 0.9068\n",
       "4  4  4      True  32       32   5                 0.9562\n",
       "5  4  4      True  32       32   6                 0.9826\n",
       "6  4  4      True  32       32   7                 0.9947\n",
       "7  4  4      True  32       32   8                 0.9985\n",
       "8  4  4      True  32       32   9                 0.9996\n",
       "9  4  4      True  32       32  10                 0.9999"
      ]
     },
     "execution_count": 29,
     "metadata": {},
     "output_type": "execute_result"
    }
   ],
   "source": [
    "torus = grid[grid.periodic==True]\n",
    "torus"
   ]
  },
  {
   "cell_type": "code",
   "execution_count": 30,
   "id": "trained-lying",
   "metadata": {},
   "outputs": [],
   "source": [
    "torus.set_index(['p'], inplace=True)"
   ]
  },
  {
   "cell_type": "code",
   "execution_count": 31,
   "id": "extraordinary-union",
   "metadata": {},
   "outputs": [],
   "source": [
    "def plot_torus(torus, ax, f1=16, f2=12):\n",
    "    torus['qaoa_ratio_of_max_cut'].plot(ax=ax)\n",
    "    ax.set_ylim(0.65,1.02)\n",
    "    ax.set_title(\"QAOA cut value on $4 \\\\times 4$ torus\", fontsize=f1)\n",
    "    ax.set_ylabel(\"Cut value\", fontsize=f2)\n",
    "    ax.set_xlabel(\"$p$\", fontsize=f2)"
   ]
  },
  {
   "cell_type": "code",
   "execution_count": 32,
   "id": "every-lodging",
   "metadata": {},
   "outputs": [
    {
     "data": {
      "image/png": "[encoded data removed]",
      "text/plain": [
       "<Figure size 432x288 with 1 Axes>"
      ]
     },
     "metadata": {},
     "output_type": "display_data"
    }
   ],
   "source": [
    "ax = plt.axes()\n",
    "plot_torus(torus, ax)\n",
    "plt.show()"
   ]
  },
  {
   "cell_type": "code",
   "execution_count": 33,
   "id": "gothic-reliance",
   "metadata": {},
   "outputs": [
    {
     "data": {
      "text/html": [
       "<div>\n",
       "<style scoped>\n",
       "    .dataframe tbody tr th:only-of-type {\n",
       "        vertical-align: middle;\n",
       "    }\n",
       "\n",
       "    .dataframe tbody tr th {\n",
       "        vertical-align: top;\n",
       "    }\n",
       "\n",
       "    .dataframe thead th {\n",
       "        text-align: right;\n",
       "    }\n",
       "</style>\n",
       "<table border=\"1\" class=\"dataframe\">\n",
       "  <thead>\n",
       "    <tr style=\"text-align: right;\">\n",
       "      <th></th>\n",
       "      <th>m</th>\n",
       "      <th>n</th>\n",
       "      <th>periodic</th>\n",
       "      <th>E</th>\n",
       "      <th>max_cut</th>\n",
       "      <th>qaoa_ratio_of_max_cut</th>\n",
       "    </tr>\n",
       "    <tr>\n",
       "      <th>p</th>\n",
       "      <th></th>\n",
       "      <th></th>\n",
       "      <th></th>\n",
       "      <th></th>\n",
       "      <th></th>\n",
       "      <th></th>\n",
       "    </tr>\n",
       "  </thead>\n",
       "  <tbody>\n",
       "    <tr>\n",
       "      <th>1</th>\n",
       "      <td>4</td>\n",
       "      <td>4</td>\n",
       "      <td>False</td>\n",
       "      <td>24</td>\n",
       "      <td>24</td>\n",
       "      <td>0.6879</td>\n",
       "    </tr>\n",
       "    <tr>\n",
       "      <th>2</th>\n",
       "      <td>4</td>\n",
       "      <td>4</td>\n",
       "      <td>False</td>\n",
       "      <td>24</td>\n",
       "      <td>24</td>\n",
       "      <td>0.7787</td>\n",
       "    </tr>\n",
       "    <tr>\n",
       "      <th>3</th>\n",
       "      <td>4</td>\n",
       "      <td>4</td>\n",
       "      <td>False</td>\n",
       "      <td>24</td>\n",
       "      <td>24</td>\n",
       "      <td>0.8406</td>\n",
       "    </tr>\n",
       "    <tr>\n",
       "      <th>4</th>\n",
       "      <td>4</td>\n",
       "      <td>4</td>\n",
       "      <td>False</td>\n",
       "      <td>24</td>\n",
       "      <td>24</td>\n",
       "      <td>0.8849</td>\n",
       "    </tr>\n",
       "    <tr>\n",
       "      <th>5</th>\n",
       "      <td>4</td>\n",
       "      <td>4</td>\n",
       "      <td>False</td>\n",
       "      <td>24</td>\n",
       "      <td>24</td>\n",
       "      <td>0.9202</td>\n",
       "    </tr>\n",
       "    <tr>\n",
       "      <th>6</th>\n",
       "      <td>4</td>\n",
       "      <td>4</td>\n",
       "      <td>False</td>\n",
       "      <td>24</td>\n",
       "      <td>24</td>\n",
       "      <td>0.9506</td>\n",
       "    </tr>\n",
       "    <tr>\n",
       "      <th>7</th>\n",
       "      <td>4</td>\n",
       "      <td>4</td>\n",
       "      <td>False</td>\n",
       "      <td>24</td>\n",
       "      <td>24</td>\n",
       "      <td>0.9720</td>\n",
       "    </tr>\n",
       "    <tr>\n",
       "      <th>8</th>\n",
       "      <td>4</td>\n",
       "      <td>4</td>\n",
       "      <td>False</td>\n",
       "      <td>24</td>\n",
       "      <td>24</td>\n",
       "      <td>0.9849</td>\n",
       "    </tr>\n",
       "    <tr>\n",
       "      <th>9</th>\n",
       "      <td>4</td>\n",
       "      <td>4</td>\n",
       "      <td>False</td>\n",
       "      <td>24</td>\n",
       "      <td>24</td>\n",
       "      <td>0.9920</td>\n",
       "    </tr>\n",
       "    <tr>\n",
       "      <th>10</th>\n",
       "      <td>4</td>\n",
       "      <td>4</td>\n",
       "      <td>False</td>\n",
       "      <td>24</td>\n",
       "      <td>24</td>\n",
       "      <td>0.9956</td>\n",
       "    </tr>\n",
       "  </tbody>\n",
       "</table>\n",
       "</div>"
      ],
      "text/plain": [
       "    m  n  periodic   E  max_cut  qaoa_ratio_of_max_cut\n",
       "p                                                     \n",
       "1   4  4     False  24       24                 0.6879\n",
       "2   4  4     False  24       24                 0.7787\n",
       "3   4  4     False  24       24                 0.8406\n",
       "4   4  4     False  24       24                 0.8849\n",
       "5   4  4     False  24       24                 0.9202\n",
       "6   4  4     False  24       24                 0.9506\n",
       "7   4  4     False  24       24                 0.9720\n",
       "8   4  4     False  24       24                 0.9849\n",
       "9   4  4     False  24       24                 0.9920\n",
       "10  4  4     False  24       24                 0.9956"
      ]
     },
     "execution_count": 33,
     "metadata": {},
     "output_type": "execute_result"
    }
   ],
   "source": [
    "grid_4 = grid[grid.periodic==False]\n",
    "grid_4.set_index(['p'], inplace=True)\n",
    "grid_4"
   ]
  },
  {
   "cell_type": "code",
   "execution_count": 34,
   "id": "constant-stock",
   "metadata": {},
   "outputs": [],
   "source": [
    "def plot_grid(grid_n, ax, f1=16, f2=12):\n",
    "    grid_n['qaoa_ratio_of_max_cut'].plot(ax=ax)\n",
    "    ax.set_ylim(0.65,1.02)\n",
    "    ax.set_title(\"QAOA cut value on $4 \\\\times 4$ grid\", fontsize=f1)\n",
    "    ax.set_ylabel(\"Cut value\", fontsize=f2)\n",
    "    ax.set_xlabel(\"$p$\", fontsize=f2)"
   ]
  },
  {
   "cell_type": "code",
   "execution_count": 35,
   "id": "continued-armor",
   "metadata": {},
   "outputs": [
    {
     "data": {
      "image/png": "[encoded data removed]",
      "text/plain": [
       "<Figure size 432x288 with 1 Axes>"
      ]
     },
     "metadata": {},
     "output_type": "display_data"
    }
   ],
   "source": [
    "ax = plt.axes()\n",
    "plot_grid(grid_4, ax)\n",
    "plt.show()"
   ]
  },
  {
   "cell_type": "code",
   "execution_count": 36,
   "id": "abroad-synthetic",
   "metadata": {},
   "outputs": [
    {
     "data": {
      "image/png": "[encoded data removed]",
      "text/plain": [
       "<Figure size 864x288 with 2 Axes>"
      ]
     },
     "metadata": {},
     "output_type": "display_data"
    }
   ],
   "source": [
    "fig, axs = plt.subplots(1, 2, figsize=((12, 4)))\n",
    "plot_torus(torus, axs[0], f1=15, f2=15)\n",
    "plot_grid(grid_4, axs[1], f1=15, f2=15)\n",
    "fig.tight_layout()\n",
    "plt.savefig(\"grid.png\", dpi=300)"
   ]
  },
  {
   "cell_type": "markdown",
   "id": "absent-congress",
   "metadata": {},
   "source": [
    "# Union of torus and random graph"
   ]
  },
  {
   "cell_type": "code",
   "execution_count": 37,
   "id": "brilliant-kansas",
   "metadata": {},
   "outputs": [
    {
     "name": "stdout",
     "output_type": "stream",
     "text": [
      "0 45 35.0 35.0\n"
     ]
    },
    {
     "data": {
      "image/png": "[encoded data removed]",
      "text/plain": [
       "<Figure size 432x288 with 1 Axes>"
      ]
     },
     "metadata": {},
     "output_type": "display_data"
    },
    {
     "name": "stdout",
     "output_type": "stream",
     "text": [
      "50 47 37.0 36.0\n"
     ]
    },
    {
     "data": {
      "image/png": "[encoded data removed]",
      "text/plain": [
       "<Figure size 432x288 with 1 Axes>"
      ]
     },
     "metadata": {},
     "output_type": "display_data"
    }
   ],
   "source": [
    "graph_nums = [0,50]\n",
    "for num in graph_nums:\n",
    "    G_random = compare(16, 3, num, show_prints=False, return_graph=True)\n",
    "    G_torus=nx.grid_2d_graph(4,4, periodic=True)\n",
    "    G_torus = nx.convert_node_labels_to_integers(G_torus, first_label=1)\n",
    "    assert sorted(list(G_torus.nodes())) == sorted(list(G_random.nodes()))\n",
    "    union = set(list(G_torus.edges()) + list(G_random.edges()))\n",
    "    \n",
    "    with open('union' + str(num) + '.txt', 'w') as f:\n",
    "        for i,j in union:\n",
    "            f.write(str(i) + \" \" + str(j) +  \" \" + \"1\\n\")\n",
    "    f.close()\n",
    "    \n",
    "    G = G_random.copy()\n",
    "    G.add_edges_from(G_torus.edges())\n",
    "    print(num, len(G.edges()), max(get_H(len(list(G)), G.edges())), ALR(G))\n",
    "    nx.draw(G)\n",
    "    plt.show()"
   ]
  },
  {
   "cell_type": "markdown",
   "id": "atomic-shower",
   "metadata": {},
   "source": [
    "The QAOA approximation ratio was found using Leo's code. https://github.com/leologist/GenQAOA/blob/master/MATLAB/demo/demo_QAOAMaxCut_FourierStrategy.m"
   ]
  },
  {
   "cell_type": "markdown",
   "id": "separated-observer",
   "metadata": {},
   "source": [
    "The data was collected and stored in `unions.csv`."
   ]
  },
  {
   "cell_type": "code",
   "execution_count": 38,
   "id": "accredited-visit",
   "metadata": {},
   "outputs": [
    {
     "data": {
      "text/html": [
       "<div>\n",
       "<style scoped>\n",
       "    .dataframe tbody tr th:only-of-type {\n",
       "        vertical-align: middle;\n",
       "    }\n",
       "\n",
       "    .dataframe tbody tr th {\n",
       "        vertical-align: top;\n",
       "    }\n",
       "\n",
       "    .dataframe thead th {\n",
       "        text-align: right;\n",
       "    }\n",
       "</style>\n",
       "<table border=\"1\" class=\"dataframe\">\n",
       "  <thead>\n",
       "    <tr style=\"text-align: right;\">\n",
       "      <th></th>\n",
       "      <th>graph_num</th>\n",
       "      <th>n</th>\n",
       "      <th>p</th>\n",
       "      <th>E</th>\n",
       "      <th>max_cut</th>\n",
       "      <th>alr</th>\n",
       "      <th>qaoa_ratio</th>\n",
       "    </tr>\n",
       "  </thead>\n",
       "  <tbody>\n",
       "    <tr>\n",
       "      <th>0</th>\n",
       "      <td>50</td>\n",
       "      <td>16</td>\n",
       "      <td>1</td>\n",
       "      <td>47</td>\n",
       "      <td>37</td>\n",
       "      <td>36</td>\n",
       "      <td>0.7690</td>\n",
       "    </tr>\n",
       "    <tr>\n",
       "      <th>1</th>\n",
       "      <td>50</td>\n",
       "      <td>16</td>\n",
       "      <td>2</td>\n",
       "      <td>47</td>\n",
       "      <td>37</td>\n",
       "      <td>36</td>\n",
       "      <td>0.8390</td>\n",
       "    </tr>\n",
       "    <tr>\n",
       "      <th>2</th>\n",
       "      <td>50</td>\n",
       "      <td>16</td>\n",
       "      <td>3</td>\n",
       "      <td>47</td>\n",
       "      <td>37</td>\n",
       "      <td>36</td>\n",
       "      <td>0.8790</td>\n",
       "    </tr>\n",
       "    <tr>\n",
       "      <th>3</th>\n",
       "      <td>50</td>\n",
       "      <td>16</td>\n",
       "      <td>4</td>\n",
       "      <td>47</td>\n",
       "      <td>37</td>\n",
       "      <td>36</td>\n",
       "      <td>0.9052</td>\n",
       "    </tr>\n",
       "    <tr>\n",
       "      <th>4</th>\n",
       "      <td>50</td>\n",
       "      <td>16</td>\n",
       "      <td>5</td>\n",
       "      <td>47</td>\n",
       "      <td>37</td>\n",
       "      <td>36</td>\n",
       "      <td>0.9255</td>\n",
       "    </tr>\n",
       "    <tr>\n",
       "      <th>5</th>\n",
       "      <td>50</td>\n",
       "      <td>16</td>\n",
       "      <td>6</td>\n",
       "      <td>47</td>\n",
       "      <td>37</td>\n",
       "      <td>36</td>\n",
       "      <td>0.9423</td>\n",
       "    </tr>\n",
       "    <tr>\n",
       "      <th>6</th>\n",
       "      <td>50</td>\n",
       "      <td>16</td>\n",
       "      <td>7</td>\n",
       "      <td>47</td>\n",
       "      <td>37</td>\n",
       "      <td>36</td>\n",
       "      <td>0.9562</td>\n",
       "    </tr>\n",
       "    <tr>\n",
       "      <th>7</th>\n",
       "      <td>50</td>\n",
       "      <td>16</td>\n",
       "      <td>8</td>\n",
       "      <td>47</td>\n",
       "      <td>37</td>\n",
       "      <td>36</td>\n",
       "      <td>0.9674</td>\n",
       "    </tr>\n",
       "    <tr>\n",
       "      <th>8</th>\n",
       "      <td>50</td>\n",
       "      <td>16</td>\n",
       "      <td>9</td>\n",
       "      <td>47</td>\n",
       "      <td>37</td>\n",
       "      <td>36</td>\n",
       "      <td>0.9755</td>\n",
       "    </tr>\n",
       "    <tr>\n",
       "      <th>9</th>\n",
       "      <td>50</td>\n",
       "      <td>16</td>\n",
       "      <td>10</td>\n",
       "      <td>47</td>\n",
       "      <td>37</td>\n",
       "      <td>36</td>\n",
       "      <td>0.9807</td>\n",
       "    </tr>\n",
       "    <tr>\n",
       "      <th>10</th>\n",
       "      <td>0</td>\n",
       "      <td>16</td>\n",
       "      <td>1</td>\n",
       "      <td>45</td>\n",
       "      <td>35</td>\n",
       "      <td>35</td>\n",
       "      <td>0.7778</td>\n",
       "    </tr>\n",
       "    <tr>\n",
       "      <th>11</th>\n",
       "      <td>0</td>\n",
       "      <td>16</td>\n",
       "      <td>2</td>\n",
       "      <td>45</td>\n",
       "      <td>35</td>\n",
       "      <td>35</td>\n",
       "      <td>0.8344</td>\n",
       "    </tr>\n",
       "    <tr>\n",
       "      <th>12</th>\n",
       "      <td>0</td>\n",
       "      <td>16</td>\n",
       "      <td>3</td>\n",
       "      <td>45</td>\n",
       "      <td>35</td>\n",
       "      <td>35</td>\n",
       "      <td>0.8688</td>\n",
       "    </tr>\n",
       "    <tr>\n",
       "      <th>13</th>\n",
       "      <td>0</td>\n",
       "      <td>16</td>\n",
       "      <td>4</td>\n",
       "      <td>45</td>\n",
       "      <td>35</td>\n",
       "      <td>35</td>\n",
       "      <td>0.8944</td>\n",
       "    </tr>\n",
       "    <tr>\n",
       "      <th>14</th>\n",
       "      <td>0</td>\n",
       "      <td>16</td>\n",
       "      <td>5</td>\n",
       "      <td>45</td>\n",
       "      <td>35</td>\n",
       "      <td>35</td>\n",
       "      <td>0.9140</td>\n",
       "    </tr>\n",
       "    <tr>\n",
       "      <th>15</th>\n",
       "      <td>0</td>\n",
       "      <td>16</td>\n",
       "      <td>6</td>\n",
       "      <td>45</td>\n",
       "      <td>35</td>\n",
       "      <td>35</td>\n",
       "      <td>0.9305</td>\n",
       "    </tr>\n",
       "    <tr>\n",
       "      <th>16</th>\n",
       "      <td>0</td>\n",
       "      <td>16</td>\n",
       "      <td>7</td>\n",
       "      <td>45</td>\n",
       "      <td>35</td>\n",
       "      <td>35</td>\n",
       "      <td>0.9454</td>\n",
       "    </tr>\n",
       "    <tr>\n",
       "      <th>17</th>\n",
       "      <td>0</td>\n",
       "      <td>16</td>\n",
       "      <td>8</td>\n",
       "      <td>45</td>\n",
       "      <td>35</td>\n",
       "      <td>35</td>\n",
       "      <td>0.9580</td>\n",
       "    </tr>\n",
       "    <tr>\n",
       "      <th>18</th>\n",
       "      <td>0</td>\n",
       "      <td>16</td>\n",
       "      <td>9</td>\n",
       "      <td>45</td>\n",
       "      <td>35</td>\n",
       "      <td>35</td>\n",
       "      <td>0.9691</td>\n",
       "    </tr>\n",
       "    <tr>\n",
       "      <th>19</th>\n",
       "      <td>0</td>\n",
       "      <td>16</td>\n",
       "      <td>10</td>\n",
       "      <td>45</td>\n",
       "      <td>35</td>\n",
       "      <td>35</td>\n",
       "      <td>0.9778</td>\n",
       "    </tr>\n",
       "  </tbody>\n",
       "</table>\n",
       "</div>"
      ],
      "text/plain": [
       "    graph_num   n   p   E  max_cut  alr  qaoa_ratio\n",
       "0          50  16   1  47       37   36      0.7690\n",
       "1          50  16   2  47       37   36      0.8390\n",
       "2          50  16   3  47       37   36      0.8790\n",
       "3          50  16   4  47       37   36      0.9052\n",
       "4          50  16   5  47       37   36      0.9255\n",
       "5          50  16   6  47       37   36      0.9423\n",
       "6          50  16   7  47       37   36      0.9562\n",
       "7          50  16   8  47       37   36      0.9674\n",
       "8          50  16   9  47       37   36      0.9755\n",
       "9          50  16  10  47       37   36      0.9807\n",
       "10          0  16   1  45       35   35      0.7778\n",
       "11          0  16   2  45       35   35      0.8344\n",
       "12          0  16   3  45       35   35      0.8688\n",
       "13          0  16   4  45       35   35      0.8944\n",
       "14          0  16   5  45       35   35      0.9140\n",
       "15          0  16   6  45       35   35      0.9305\n",
       "16          0  16   7  45       35   35      0.9454\n",
       "17          0  16   8  45       35   35      0.9580\n",
       "18          0  16   9  45       35   35      0.9691\n",
       "19          0  16  10  45       35   35      0.9778"
      ]
     },
     "execution_count": 38,
     "metadata": {},
     "output_type": "execute_result"
    }
   ],
   "source": [
    "unions = pd.read_csv('unions.csv')\n",
    "unions"
   ]
  },
  {
   "cell_type": "markdown",
   "id": "complete-roman",
   "metadata": {},
   "source": [
    "## Plots"
   ]
  },
  {
   "cell_type": "code",
   "execution_count": 39,
   "id": "alike-familiar",
   "metadata": {},
   "outputs": [],
   "source": [
    "unions['qaoa_val'] = unions['max_cut']*unions['qaoa_ratio']/unions['E']\n",
    "unions['alr_val'] = unions['alr']/unions['E']\n",
    "unions['opt_val'] = unions['max_cut']/unions['E']"
   ]
  },
  {
   "cell_type": "code",
   "execution_count": 40,
   "id": "excessive-music",
   "metadata": {},
   "outputs": [],
   "source": [
    "unions1 = unions[unions.graph_num==50]\n",
    "unions2 = unions[unions.graph_num==0]\n",
    "unions1.set_index('p',inplace=True)\n",
    "unions2.set_index('p',inplace=True)"
   ]
  },
  {
   "cell_type": "code",
   "execution_count": 41,
   "id": "aging-charge",
   "metadata": {},
   "outputs": [
    {
     "data": {
      "image/png": "[encoded data removed]",
      "text/plain": [
       "<Figure size 576x288 with 1 Axes>"
      ]
     },
     "metadata": {},
     "output_type": "display_data"
    }
   ],
   "source": [
    "plt.figure(figsize=(8,4))\n",
    "ax = plt.axes()\n",
    "mean = (unions1+unions2)/2\n",
    "low = pd.concat([unions1, unions2]).min(level=0)\n",
    "high = pd.concat([unions1, unions2]).max(level=0)\n",
    "ax.errorbar(unions1.index, mean['qaoa_val'],yerr = [(mean-low).qaoa_val,(high-mean).qaoa_val], label=\"QAOA value\")\n",
    "ax.errorbar(unions1.index, mean['alr_val'],yerr = [(mean-low).alr_val,(high-mean).alr_val], label = \"ALR value\")\n",
    "ax.errorbar(unions1.index, mean['opt_val'],yerr = [(mean-low).opt_val,(high-mean).opt_val], label = \"OPT value\", linestyle ='--')\n",
    "ax.legend(fontsize = 15)\n",
    "ax.set_xlabel('$p$',fontsize = 15)\n",
    "ax.set_ylabel('Cut value', fontsize = 15)\n",
    "ax.set_title('QAOA/ALR performance on union of random graph and $4 \\\\times 4$ torus', fontsize = 15)\n",
    "plt.tight_layout()\n",
    "plt.savefig('union.png', dpi=300)"
   ]
  },
  {
   "cell_type": "markdown",
   "id": "compact-vegetation",
   "metadata": {},
   "source": [
    "Thanks for reading!"
   ]
  }
 ],
 "metadata": {
  "kernelspec": {
   "display_name": "Python 3",
   "language": "python",
   "name": "python3"
  },
  "language_info": {
   "codemirror_mode": {
    "name": "ipython",
    "version": 3
   },
   "file_extension": ".py",
   "mimetype": "text/x-python",
   "name": "python",
   "nbconvert_exporter": "python",
   "pygments_lexer": "ipython3",
   "version": "3.8.8"
  }
 },
 "nbformat": 4,
 "nbformat_minor": 5
}